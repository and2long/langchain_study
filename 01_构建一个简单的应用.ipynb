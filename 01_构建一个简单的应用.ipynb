{
 "cells": [
  {
   "cell_type": "markdown",
   "id": "afc233fe",
   "metadata": {},
   "source": []
  },
  {
   "cell_type": "markdown",
   "id": "8e871a7c",
   "metadata": {},
   "source": [
    "配置 Ollama 连接"
   ]
  },
  {
   "cell_type": "code",
   "execution_count": 1,
   "id": "93e6d829",
   "metadata": {},
   "outputs": [],
   "source": [
    "from langchain_ollama import OllamaLLM\n",
    "\n",
    "model = OllamaLLM(\n",
    "    model=\"gemma3:4b\",\n",
    "    base_url=\"http://localhost:11434\",\n",
    ")"
   ]
  },
  {
   "cell_type": "markdown",
   "id": "f25a2da3",
   "metadata": {},
   "source": [
    "获取运行结果"
   ]
  },
  {
   "cell_type": "code",
   "execution_count": 2,
   "id": "b342faf3",
   "metadata": {},
   "outputs": [
    {
     "name": "stdout",
     "output_type": "stream",
     "text": [
      "I’m doing well, thank you for asking! As a large language model, I don’t really *feel* in the way humans do, but my systems are running smoothly and I’m ready to chat. 😊 \n",
      "\n",
      "How are *you* doing today? Is there anything you’d like to talk about or anything I can help you with?\n"
     ]
    }
   ],
   "source": [
    "response = model.invoke(\"Hello, How are you?\")\n",
    "print(response)"
   ]
  },
  {
   "cell_type": "markdown",
   "id": "0059a20a",
   "metadata": {},
   "source": [
    "使用stream方法进行流式输出"
   ]
  },
  {
   "cell_type": "code",
   "execution_count": 3,
   "id": "950472d5",
   "metadata": {},
   "outputs": [
    {
     "name": "stdout",
     "output_type": "stream",
     "text": [
      "Hello there! I’m doing well, thank you for asking! As a large language model, I don’t really *feel* in the way humans do, but my systems are running smoothly and I’m ready to chat. 😊 \n",
      "\n",
      "How are *you* doing today? Is there anything you'd like to talk about or anything I can help you with?"
     ]
    }
   ],
   "source": [
    "for chunk in model.stream(\"Hello, How are you?\"):\n",
    "    print(chunk, end=\"\", flush=True)"
   ]
  }
 ],
 "metadata": {
  "kernelspec": {
   "display_name": "venv",
   "language": "python",
   "name": "python3"
  },
  "language_info": {
   "codemirror_mode": {
    "name": "ipython",
    "version": 3
   },
   "file_extension": ".py",
   "mimetype": "text/x-python",
   "name": "python",
   "nbconvert_exporter": "python",
   "pygments_lexer": "ipython3",
   "version": "3.12.8"
  }
 },
 "nbformat": 4,
 "nbformat_minor": 5
}
